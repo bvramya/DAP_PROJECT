{
 "cells": [
  {
   "cell_type": "markdown",
   "id": "f72cb3b9",
   "metadata": {},
   "source": [
    "# Merging IOWA Education Data"
   ]
  },
  {
   "cell_type": "markdown",
   "id": "de66bcf0",
   "metadata": {},
   "source": [
    "## 1. Installing and Importing Packages"
   ]
  },
  {
   "cell_type": "code",
   "execution_count": null,
   "id": "a7212bf6",
   "metadata": {},
   "outputs": [],
   "source": [
    "!pip install pymongo"
   ]
  },
  {
   "cell_type": "code",
   "execution_count": 17,
   "id": "d819f338",
   "metadata": {},
   "outputs": [],
   "source": [
    "import pymongo\n",
    "from pymongo import MongoClient\n",
    "import requests\n",
    "import pandas as pd\n",
    "import numpy as np\n",
    "import matplotlib.pyplot as plt\n",
    "import json\n",
    "from sqlalchemy import create_engine\n",
    "import mysql.connector\n",
    "import warnings\n",
    "warnings.filterwarnings('ignore')"
   ]
  },
  {
   "cell_type": "markdown",
   "id": "ae7dba3d",
   "metadata": {},
   "source": [
    "## 2. Connection Information"
   ]
  },
  {
   "cell_type": "markdown",
   "id": "17f499d1",
   "metadata": {},
   "source": [
    "### 2.1. NCI Open Stack Private Cloud Instance IP"
   ]
  },
  {
   "cell_type": "code",
   "execution_count": 22,
   "id": "5d0ab49d",
   "metadata": {},
   "outputs": [],
   "source": [
    "HOST = '87.44.4.25'"
   ]
  },
  {
   "cell_type": "markdown",
   "id": "c01d6219",
   "metadata": {},
   "source": [
    "### 2.2. Mongo Database Connection Credentials and Port\n"
   ]
  },
  {
   "cell_type": "code",
   "execution_count": 23,
   "id": "14d1e676",
   "metadata": {},
   "outputs": [],
   "source": [
    "MONGO_DATABASE_NAME = 'iowa_state_education_db'\n",
    "MONGO_DATABASE_USER_NAME = 'DAP_PROJ_USER'\n",
    "MONGO_DATABASE_USER_PASSWORD = 'DAP_PROJ_25'\n",
    "MONGO_DATABASE_PORT = 27017"
   ]
  },
  {
   "cell_type": "markdown",
   "id": "15beddb0",
   "metadata": {},
   "source": [
    "### 2.3.The MySQL Data Base Connection Credentials and Port"
   ]
  },
  {
   "cell_type": "code",
   "execution_count": 24,
   "id": "c6cfff46",
   "metadata": {},
   "outputs": [],
   "source": [
    "MYSQL_DATABASE_NAME = 'iowa_edu_db'\n",
    "MYSQL_DATABASE_USER_NAME = 'dap_user'\n",
    "MYSQL_DATABASE_USER_PASSWORD = 'Dap_456'\n",
    "MYSQL_DATABASE_PORT = 3306\n"
   ]
  },
  {
   "cell_type": "markdown",
   "id": "b0faca62",
   "metadata": {},
   "source": [
    "## 3. Fetch Iowa State 4 Year Graducation Rate Data from Mongo DB which is hosted in NCI Private Cloud Ubuntu Machine"
   ]
  },
  {
   "cell_type": "code",
   "execution_count": 25,
   "id": "0312d72a",
   "metadata": {},
   "outputs": [],
   "source": [
    "client = MongoClient(f'mongodb://{MONGO_DATABASE_USER_NAME}:{MONGO_DATABASE_USER_PASSWORD}@{HOST}:{MONGO_DATABASE_PORT}/{MONGO_DATABASE_NAME}')\n",
    "db = client[MONGO_DATABASE_NAME]\n",
    "iowa_graduation_rate_collection = db['iowa_graduation_rate_preprocessed']\n",
    "iowa_graduation_rate_documents = iowa_graduation_rate_collection.find()\n",
    "iowa_graduation_rate_df = pd.DataFrame(list(iowa_graduation_rate_documents))"
   ]
  },
  {
   "cell_type": "code",
   "execution_count": 26,
   "id": "0beaa13f",
   "metadata": {},
   "outputs": [
    {
     "data": {
      "text/html": [
       "<div>\n",
       "<style scoped>\n",
       "    .dataframe tbody tr th:only-of-type {\n",
       "        vertical-align: middle;\n",
       "    }\n",
       "\n",
       "    .dataframe tbody tr th {\n",
       "        vertical-align: top;\n",
       "    }\n",
       "\n",
       "    .dataframe thead th {\n",
       "        text-align: right;\n",
       "    }\n",
       "</style>\n",
       "<table border=\"1\" class=\"dataframe\">\n",
       "  <thead>\n",
       "    <tr style=\"text-align: right;\">\n",
       "      <th></th>\n",
       "      <th>_id</th>\n",
       "      <th>graduating_class</th>\n",
       "      <th>fall_freshman_year</th>\n",
       "      <th>district</th>\n",
       "      <th>district_name</th>\n",
       "      <th>graduates</th>\n",
       "      <th>total_cohort</th>\n",
       "      <th>graduation_rate</th>\n",
       "      <th>graduation_rate_category</th>\n",
       "    </tr>\n",
       "  </thead>\n",
       "  <tbody>\n",
       "    <tr>\n",
       "      <th>0</th>\n",
       "      <td>6448449ac78ea6dce9d5851b</td>\n",
       "      <td>2016</td>\n",
       "      <td>2012</td>\n",
       "      <td>0009</td>\n",
       "      <td>AGWSR</td>\n",
       "      <td>35.0</td>\n",
       "      <td>35.0</td>\n",
       "      <td>100.0</td>\n",
       "      <td>90.1 - 100%</td>\n",
       "    </tr>\n",
       "    <tr>\n",
       "      <th>1</th>\n",
       "      <td>6448449ac78ea6dce9d5851c</td>\n",
       "      <td>2015</td>\n",
       "      <td>2011</td>\n",
       "      <td>0009</td>\n",
       "      <td>AGWSR</td>\n",
       "      <td>44.0</td>\n",
       "      <td>45.0</td>\n",
       "      <td>97.8</td>\n",
       "      <td>90.1 - 100%</td>\n",
       "    </tr>\n",
       "    <tr>\n",
       "      <th>2</th>\n",
       "      <td>6448449ac78ea6dce9d5851d</td>\n",
       "      <td>2014</td>\n",
       "      <td>2010</td>\n",
       "      <td>0009</td>\n",
       "      <td>AGWSR</td>\n",
       "      <td>46.0</td>\n",
       "      <td>46.0</td>\n",
       "      <td>100.0</td>\n",
       "      <td>90.1 - 100%</td>\n",
       "    </tr>\n",
       "    <tr>\n",
       "      <th>3</th>\n",
       "      <td>6448449ac78ea6dce9d5851e</td>\n",
       "      <td>2017</td>\n",
       "      <td>2013</td>\n",
       "      <td>0009</td>\n",
       "      <td>AGWSR</td>\n",
       "      <td>36.0</td>\n",
       "      <td>39.0</td>\n",
       "      <td>92.3</td>\n",
       "      <td>90.1 - 100%</td>\n",
       "    </tr>\n",
       "    <tr>\n",
       "      <th>4</th>\n",
       "      <td>6448449ac78ea6dce9d5851f</td>\n",
       "      <td>2009</td>\n",
       "      <td>2005</td>\n",
       "      <td>0009</td>\n",
       "      <td>AGWSR</td>\n",
       "      <td>42.0</td>\n",
       "      <td>46.0</td>\n",
       "      <td>91.3</td>\n",
       "      <td>90.1 - 100%</td>\n",
       "    </tr>\n",
       "  </tbody>\n",
       "</table>\n",
       "</div>"
      ],
      "text/plain": [
       "                        _id graduating_class fall_freshman_year district  \\\n",
       "0  6448449ac78ea6dce9d5851b             2016               2012     0009   \n",
       "1  6448449ac78ea6dce9d5851c             2015               2011     0009   \n",
       "2  6448449ac78ea6dce9d5851d             2014               2010     0009   \n",
       "3  6448449ac78ea6dce9d5851e             2017               2013     0009   \n",
       "4  6448449ac78ea6dce9d5851f             2009               2005     0009   \n",
       "\n",
       "  district_name  graduates  total_cohort  graduation_rate  \\\n",
       "0         AGWSR       35.0          35.0            100.0   \n",
       "1         AGWSR       44.0          45.0             97.8   \n",
       "2         AGWSR       46.0          46.0            100.0   \n",
       "3         AGWSR       36.0          39.0             92.3   \n",
       "4         AGWSR       42.0          46.0             91.3   \n",
       "\n",
       "  graduation_rate_category  \n",
       "0              90.1 - 100%  \n",
       "1              90.1 - 100%  \n",
       "2              90.1 - 100%  \n",
       "3              90.1 - 100%  \n",
       "4              90.1 - 100%  "
      ]
     },
     "execution_count": 26,
     "metadata": {},
     "output_type": "execute_result"
    }
   ],
   "source": [
    "iowa_graduation_rate_df.head()"
   ]
  },
  {
   "cell_type": "code",
   "execution_count": 32,
   "id": "826cc139",
   "metadata": {},
   "outputs": [
    {
     "data": {
      "text/plain": [
       "(3566, 9)"
      ]
     },
     "execution_count": 32,
     "metadata": {},
     "output_type": "execute_result"
    }
   ],
   "source": [
    "iowa_graduation_rate_df.shape"
   ]
  },
  {
   "cell_type": "markdown",
   "id": "b1df7e0a",
   "metadata": {},
   "source": [
    "## 4. Fetch Math And Reading Proficiency in Iowa by School Year, Public School District and Grade Level"
   ]
  },
  {
   "cell_type": "code",
   "execution_count": 29,
   "id": "641a3c44",
   "metadata": {},
   "outputs": [],
   "source": [
    "cnx = mysql.connector.connect(user='dap_user', password='Dap_456', host='87.44.4.25', database='iowa_edu_db')"
   ]
  },
  {
   "cell_type": "code",
   "execution_count": 36,
   "id": "e579884f",
   "metadata": {},
   "outputs": [],
   "source": [
    "query = \"SELECT * FROM preprocesses_iowa_scores\"\n",
    "math_and_reading_proficiency_df = pd.read_sql_query(query, cnx)"
   ]
  },
  {
   "cell_type": "code",
   "execution_count": 37,
   "id": "3672cee8",
   "metadata": {},
   "outputs": [
    {
     "data": {
      "text/html": [
       "<div>\n",
       "<style scoped>\n",
       "    .dataframe tbody tr th:only-of-type {\n",
       "        vertical-align: middle;\n",
       "    }\n",
       "\n",
       "    .dataframe tbody tr th {\n",
       "        vertical-align: top;\n",
       "    }\n",
       "\n",
       "    .dataframe thead th {\n",
       "        text-align: right;\n",
       "    }\n",
       "</style>\n",
       "<table border=\"1\" class=\"dataframe\">\n",
       "  <thead>\n",
       "    <tr style=\"text-align: right;\">\n",
       "      <th></th>\n",
       "      <th>School Year</th>\n",
       "      <th>Topic</th>\n",
       "      <th>Grade</th>\n",
       "      <th>District</th>\n",
       "      <th>District Name</th>\n",
       "      <th>Proficient</th>\n",
       "      <th>Total</th>\n",
       "      <th>% Proficient</th>\n",
       "      <th>Proficient Category</th>\n",
       "    </tr>\n",
       "  </thead>\n",
       "  <tbody>\n",
       "    <tr>\n",
       "      <th>0</th>\n",
       "      <td>2016</td>\n",
       "      <td>Reading</td>\n",
       "      <td>4</td>\n",
       "      <td>4572</td>\n",
       "      <td>Murray</td>\n",
       "      <td>15.0</td>\n",
       "      <td>23.0</td>\n",
       "      <td>65.2</td>\n",
       "      <td>60.1 - 70%</td>\n",
       "    </tr>\n",
       "    <tr>\n",
       "      <th>1</th>\n",
       "      <td>2016</td>\n",
       "      <td>Reading</td>\n",
       "      <td>3</td>\n",
       "      <td>3465</td>\n",
       "      <td>Lamoni</td>\n",
       "      <td>12.0</td>\n",
       "      <td>16.0</td>\n",
       "      <td>75.0</td>\n",
       "      <td>70.1 - 80%</td>\n",
       "    </tr>\n",
       "    <tr>\n",
       "      <th>2</th>\n",
       "      <td>2016</td>\n",
       "      <td>Math</td>\n",
       "      <td>8</td>\n",
       "      <td>6102</td>\n",
       "      <td>Spencer</td>\n",
       "      <td>108.0</td>\n",
       "      <td>131.0</td>\n",
       "      <td>82.4</td>\n",
       "      <td>80.1 - 90%</td>\n",
       "    </tr>\n",
       "    <tr>\n",
       "      <th>3</th>\n",
       "      <td>2016</td>\n",
       "      <td>Math</td>\n",
       "      <td>6</td>\n",
       "      <td>4269</td>\n",
       "      <td>Midland Comm School District</td>\n",
       "      <td>17.0</td>\n",
       "      <td>27.0</td>\n",
       "      <td>63.0</td>\n",
       "      <td>60.1 - 70%</td>\n",
       "    </tr>\n",
       "    <tr>\n",
       "      <th>4</th>\n",
       "      <td>2016</td>\n",
       "      <td>Math</td>\n",
       "      <td>4</td>\n",
       "      <td>234</td>\n",
       "      <td>Anamosa</td>\n",
       "      <td>62.0</td>\n",
       "      <td>75.0</td>\n",
       "      <td>82.7</td>\n",
       "      <td>80.1 - 90%</td>\n",
       "    </tr>\n",
       "  </tbody>\n",
       "</table>\n",
       "</div>"
      ],
      "text/plain": [
       "   School Year    Topic  Grade  District                 District Name  \\\n",
       "0         2016  Reading      4      4572                        Murray   \n",
       "1         2016  Reading      3      3465                        Lamoni   \n",
       "2         2016     Math      8      6102                       Spencer   \n",
       "3         2016     Math      6      4269  Midland Comm School District   \n",
       "4         2016     Math      4       234                       Anamosa   \n",
       "\n",
       "   Proficient  Total  % Proficient Proficient Category  \n",
       "0        15.0   23.0          65.2          60.1 - 70%  \n",
       "1        12.0   16.0          75.0          70.1 - 80%  \n",
       "2       108.0  131.0          82.4          80.1 - 90%  \n",
       "3        17.0   27.0          63.0          60.1 - 70%  \n",
       "4        62.0   75.0          82.7          80.1 - 90%  "
      ]
     },
     "execution_count": 37,
     "metadata": {},
     "output_type": "execute_result"
    }
   ],
   "source": [
    "math_and_reading_proficiency_df.head()"
   ]
  },
  {
   "cell_type": "code",
   "execution_count": 33,
   "id": "84ef3a84",
   "metadata": {},
   "outputs": [
    {
     "data": {
      "text/plain": [
       "(9366, 14)"
      ]
     },
     "execution_count": 33,
     "metadata": {},
     "output_type": "execute_result"
    }
   ],
   "source": [
    "math_and_reading_proficiency_df.shape"
   ]
  },
  {
   "cell_type": "code",
   "execution_count": null,
   "id": "9b1d49c1",
   "metadata": {},
   "outputs": [],
   "source": []
  },
  {
   "cell_type": "markdown",
   "id": "dbbcd49b",
   "metadata": {},
   "source": [
    "## 5. Merging the IOWA Math and Reading Proficiency Data and IOWA Graduation Data"
   ]
  },
  {
   "cell_type": "code",
   "execution_count": 38,
   "id": "c523d10b",
   "metadata": {},
   "outputs": [
    {
     "data": {
      "text/plain": [
       "Index(['_id', 'graduating_class', 'fall_freshman_year', 'district',\n",
       "       'district_name', 'graduates', 'total_cohort', 'graduation_rate',\n",
       "       'graduation_rate_category'],\n",
       "      dtype='object')"
      ]
     },
     "execution_count": 38,
     "metadata": {},
     "output_type": "execute_result"
    }
   ],
   "source": [
    "iowa_graduation_rate_df.columns"
   ]
  },
  {
   "cell_type": "code",
   "execution_count": 49,
   "id": "82331161",
   "metadata": {},
   "outputs": [],
   "source": [
    "iowa_graduation_rate_df['School Year'] = iowa_graduation_rate_df['School Year'].astype(int)"
   ]
  },
  {
   "cell_type": "code",
   "execution_count": 50,
   "id": "f756fa1a",
   "metadata": {},
   "outputs": [
    {
     "name": "stdout",
     "output_type": "stream",
     "text": [
      "<class 'pandas.core.frame.DataFrame'>\n",
      "RangeIndex: 3566 entries, 0 to 3565\n",
      "Data columns (total 9 columns):\n",
      " #   Column                    Non-Null Count  Dtype  \n",
      "---  ------                    --------------  -----  \n",
      " 0   _id                       3566 non-null   object \n",
      " 1   School Year               3566 non-null   int32  \n",
      " 2   fall_freshman_year        3566 non-null   object \n",
      " 3   district                  3566 non-null   object \n",
      " 4   district_name             3566 non-null   object \n",
      " 5   graduates                 3566 non-null   float64\n",
      " 6   total_cohort              3566 non-null   float64\n",
      " 7   graduation_rate           3566 non-null   float64\n",
      " 8   graduation_rate_category  3566 non-null   object \n",
      "dtypes: float64(3), int32(1), object(5)\n",
      "memory usage: 236.9+ KB\n"
     ]
    }
   ],
   "source": [
    "iowa_graduation_rate_df.info()"
   ]
  },
  {
   "cell_type": "code",
   "execution_count": 51,
   "id": "1ba6097d",
   "metadata": {},
   "outputs": [
    {
     "data": {
      "text/plain": [
       "Index(['School Year', 'Topic', 'Grade', 'District', 'District Name',\n",
       "       'Proficient', 'Total', '% Proficient', 'Proficient Category'],\n",
       "      dtype='object')"
      ]
     },
     "execution_count": 51,
     "metadata": {},
     "output_type": "execute_result"
    }
   ],
   "source": [
    "math_and_reading_proficiency_df.columns"
   ]
  },
  {
   "cell_type": "code",
   "execution_count": 52,
   "id": "08a88b87",
   "metadata": {},
   "outputs": [
    {
     "name": "stdout",
     "output_type": "stream",
     "text": [
      "<class 'pandas.core.frame.DataFrame'>\n",
      "RangeIndex: 8860 entries, 0 to 8859\n",
      "Data columns (total 9 columns):\n",
      " #   Column               Non-Null Count  Dtype  \n",
      "---  ------               --------------  -----  \n",
      " 0   School Year          8860 non-null   int64  \n",
      " 1   Topic                8860 non-null   object \n",
      " 2   Grade                8860 non-null   int64  \n",
      " 3   District             8860 non-null   int64  \n",
      " 4   District Name        8860 non-null   object \n",
      " 5   Proficient           8860 non-null   float64\n",
      " 6   Total                8860 non-null   float64\n",
      " 7   % Proficient         8860 non-null   float64\n",
      " 8   Proficient Category  8860 non-null   object \n",
      "dtypes: float64(3), int64(3), object(3)\n",
      "memory usage: 623.1+ KB\n"
     ]
    }
   ],
   "source": [
    "math_and_reading_proficiency_df.info()"
   ]
  },
  {
   "cell_type": "code",
   "execution_count": 53,
   "id": "79caab33",
   "metadata": {},
   "outputs": [],
   "source": [
    "# We have Columns which are more related like 1. 'District Name' ,\n",
    "# 2. Graduating_Class from iowa_graduation_rate_df and Shool_Year from math_and_reading_proficiency_df"
   ]
  },
  {
   "cell_type": "code",
   "execution_count": 60,
   "id": "5a9bf8a8",
   "metadata": {},
   "outputs": [],
   "source": [
    "\n",
    "iowa_graduation_rate_df.rename(columns={'district_name' : 'District Name'}, inplace=True)"
   ]
  },
  {
   "cell_type": "code",
   "execution_count": 61,
   "id": "57577428",
   "metadata": {},
   "outputs": [],
   "source": [
    "iowa_math_reading_proficiency_graduation_rate_df = pd.merge(iowa_graduation_rate_df, math_and_reading_proficiency_df, on = 'District Name')"
   ]
  },
  {
   "cell_type": "code",
   "execution_count": 62,
   "id": "1735e386",
   "metadata": {},
   "outputs": [
    {
     "data": {
      "text/plain": [
       "(43610, 17)"
      ]
     },
     "execution_count": 62,
     "metadata": {},
     "output_type": "execute_result"
    }
   ],
   "source": [
    "iowa_math_reading_proficiency_graduation_rate_df.shape"
   ]
  },
  {
   "cell_type": "code",
   "execution_count": 63,
   "id": "ba711f98",
   "metadata": {},
   "outputs": [
    {
     "data": {
      "text/html": [
       "<div>\n",
       "<style scoped>\n",
       "    .dataframe tbody tr th:only-of-type {\n",
       "        vertical-align: middle;\n",
       "    }\n",
       "\n",
       "    .dataframe tbody tr th {\n",
       "        vertical-align: top;\n",
       "    }\n",
       "\n",
       "    .dataframe thead th {\n",
       "        text-align: right;\n",
       "    }\n",
       "</style>\n",
       "<table border=\"1\" class=\"dataframe\">\n",
       "  <thead>\n",
       "    <tr style=\"text-align: right;\">\n",
       "      <th></th>\n",
       "      <th>_id</th>\n",
       "      <th>School Year_x</th>\n",
       "      <th>fall_freshman_year</th>\n",
       "      <th>district</th>\n",
       "      <th>District Name</th>\n",
       "      <th>graduates</th>\n",
       "      <th>total_cohort</th>\n",
       "      <th>graduation_rate</th>\n",
       "      <th>graduation_rate_category</th>\n",
       "      <th>School Year_y</th>\n",
       "      <th>Topic</th>\n",
       "      <th>Grade</th>\n",
       "      <th>District</th>\n",
       "      <th>Proficient</th>\n",
       "      <th>Total</th>\n",
       "      <th>% Proficient</th>\n",
       "      <th>Proficient Category</th>\n",
       "    </tr>\n",
       "  </thead>\n",
       "  <tbody>\n",
       "    <tr>\n",
       "      <th>0</th>\n",
       "      <td>6448449ac78ea6dce9d58526</td>\n",
       "      <td>2009</td>\n",
       "      <td>2005</td>\n",
       "      <td>0018</td>\n",
       "      <td>Adair-Casey</td>\n",
       "      <td>29.0</td>\n",
       "      <td>30.0</td>\n",
       "      <td>96.7</td>\n",
       "      <td>90.1 - 100%</td>\n",
       "      <td>2016</td>\n",
       "      <td>Reading</td>\n",
       "      <td>4</td>\n",
       "      <td>18</td>\n",
       "      <td>11.0</td>\n",
       "      <td>16.0</td>\n",
       "      <td>68.8</td>\n",
       "      <td>60.1 - 70%</td>\n",
       "    </tr>\n",
       "    <tr>\n",
       "      <th>1</th>\n",
       "      <td>6448449ac78ea6dce9d58526</td>\n",
       "      <td>2009</td>\n",
       "      <td>2005</td>\n",
       "      <td>0018</td>\n",
       "      <td>Adair-Casey</td>\n",
       "      <td>29.0</td>\n",
       "      <td>30.0</td>\n",
       "      <td>96.7</td>\n",
       "      <td>90.1 - 100%</td>\n",
       "      <td>2016</td>\n",
       "      <td>Reading</td>\n",
       "      <td>8</td>\n",
       "      <td>18</td>\n",
       "      <td>15.0</td>\n",
       "      <td>21.0</td>\n",
       "      <td>71.4</td>\n",
       "      <td>70.1 - 80%</td>\n",
       "    </tr>\n",
       "    <tr>\n",
       "      <th>2</th>\n",
       "      <td>6448449ac78ea6dce9d58526</td>\n",
       "      <td>2009</td>\n",
       "      <td>2005</td>\n",
       "      <td>0018</td>\n",
       "      <td>Adair-Casey</td>\n",
       "      <td>29.0</td>\n",
       "      <td>30.0</td>\n",
       "      <td>96.7</td>\n",
       "      <td>90.1 - 100%</td>\n",
       "      <td>2016</td>\n",
       "      <td>Math</td>\n",
       "      <td>5</td>\n",
       "      <td>18</td>\n",
       "      <td>22.0</td>\n",
       "      <td>26.0</td>\n",
       "      <td>84.6</td>\n",
       "      <td>80.1 - 90%</td>\n",
       "    </tr>\n",
       "    <tr>\n",
       "      <th>3</th>\n",
       "      <td>6448449ac78ea6dce9d58526</td>\n",
       "      <td>2009</td>\n",
       "      <td>2005</td>\n",
       "      <td>0018</td>\n",
       "      <td>Adair-Casey</td>\n",
       "      <td>29.0</td>\n",
       "      <td>30.0</td>\n",
       "      <td>96.7</td>\n",
       "      <td>90.1 - 100%</td>\n",
       "      <td>2016</td>\n",
       "      <td>Reading</td>\n",
       "      <td>11</td>\n",
       "      <td>18</td>\n",
       "      <td>11.0</td>\n",
       "      <td>13.0</td>\n",
       "      <td>84.6</td>\n",
       "      <td>80.1 - 90%</td>\n",
       "    </tr>\n",
       "    <tr>\n",
       "      <th>4</th>\n",
       "      <td>6448449ac78ea6dce9d58526</td>\n",
       "      <td>2009</td>\n",
       "      <td>2005</td>\n",
       "      <td>0018</td>\n",
       "      <td>Adair-Casey</td>\n",
       "      <td>29.0</td>\n",
       "      <td>30.0</td>\n",
       "      <td>96.7</td>\n",
       "      <td>90.1 - 100%</td>\n",
       "      <td>2016</td>\n",
       "      <td>Reading</td>\n",
       "      <td>5</td>\n",
       "      <td>18</td>\n",
       "      <td>18.0</td>\n",
       "      <td>26.0</td>\n",
       "      <td>69.2</td>\n",
       "      <td>60.1 - 70%</td>\n",
       "    </tr>\n",
       "  </tbody>\n",
       "</table>\n",
       "</div>"
      ],
      "text/plain": [
       "                        _id  School Year_x fall_freshman_year district  \\\n",
       "0  6448449ac78ea6dce9d58526           2009               2005     0018   \n",
       "1  6448449ac78ea6dce9d58526           2009               2005     0018   \n",
       "2  6448449ac78ea6dce9d58526           2009               2005     0018   \n",
       "3  6448449ac78ea6dce9d58526           2009               2005     0018   \n",
       "4  6448449ac78ea6dce9d58526           2009               2005     0018   \n",
       "\n",
       "  District Name  graduates  total_cohort  graduation_rate  \\\n",
       "0   Adair-Casey       29.0          30.0             96.7   \n",
       "1   Adair-Casey       29.0          30.0             96.7   \n",
       "2   Adair-Casey       29.0          30.0             96.7   \n",
       "3   Adair-Casey       29.0          30.0             96.7   \n",
       "4   Adair-Casey       29.0          30.0             96.7   \n",
       "\n",
       "  graduation_rate_category  School Year_y    Topic  Grade  District  \\\n",
       "0              90.1 - 100%           2016  Reading      4        18   \n",
       "1              90.1 - 100%           2016  Reading      8        18   \n",
       "2              90.1 - 100%           2016     Math      5        18   \n",
       "3              90.1 - 100%           2016  Reading     11        18   \n",
       "4              90.1 - 100%           2016  Reading      5        18   \n",
       "\n",
       "   Proficient  Total  % Proficient Proficient Category  \n",
       "0        11.0   16.0          68.8          60.1 - 70%  \n",
       "1        15.0   21.0          71.4          70.1 - 80%  \n",
       "2        22.0   26.0          84.6          80.1 - 90%  \n",
       "3        11.0   13.0          84.6          80.1 - 90%  \n",
       "4        18.0   26.0          69.2          60.1 - 70%  "
      ]
     },
     "execution_count": 63,
     "metadata": {},
     "output_type": "execute_result"
    }
   ],
   "source": [
    "iowa_math_reading_proficiency_graduation_rate_df.head()"
   ]
  },
  {
   "cell_type": "markdown",
   "id": "a86a8604",
   "metadata": {},
   "source": [
    "## 5. Visualization of Merged Data"
   ]
  },
  {
   "cell_type": "code",
   "execution_count": 64,
   "id": "e0e1e457",
   "metadata": {},
   "outputs": [
    {
     "data": {
      "text/plain": [
       "Index(['_id', 'School Year_x', 'fall_freshman_year', 'district',\n",
       "       'District Name', 'graduates', 'total_cohort', 'graduation_rate',\n",
       "       'graduation_rate_category', 'School Year_y', 'Topic', 'Grade',\n",
       "       'District', 'Proficient', 'Total', '% Proficient',\n",
       "       'Proficient Category'],\n",
       "      dtype='object')"
      ]
     },
     "execution_count": 64,
     "metadata": {},
     "output_type": "execute_result"
    }
   ],
   "source": [
    "iowa_math_reading_proficiency_graduation_rate_df.columns"
   ]
  },
  {
   "cell_type": "markdown",
   "id": "899e1cdd",
   "metadata": {},
   "source": [
    "### 5.1. Graduation Rate Category by % Proficiency"
   ]
  },
  {
   "cell_type": "code",
   "execution_count": 70,
   "id": "78d38619",
   "metadata": {},
   "outputs": [
    {
     "data": {
      "image/png": "[encoded data removed]",
      "text/plain": [
       "<Figure size 640x480 with 1 Axes>"
      ]
     },
     "metadata": {},
     "output_type": "display_data"
    }
   ],
   "source": [
    "# creating the box plot\n",
    "sns.boxplot(x='graduation_rate_category', y='% Proficient', data=iowa_math_reading_proficiency_graduation_rate_df)\n",
    "\n",
    "# setting axis labels\n",
    "plt.xlabel('Graduation Rate Category')\n",
    "plt.ylabel('% Proficient')\n",
    "\n",
    "# displaying plot\n",
    "plt.show()\n"
   ]
  },
  {
   "cell_type": "code",
   "execution_count": 78,
   "id": "e2a58f23",
   "metadata": {},
   "outputs": [
    {
     "data": {
      "text/html": [
       "<div>\n",
       "<style scoped>\n",
       "    .dataframe tbody tr th:only-of-type {\n",
       "        vertical-align: middle;\n",
       "    }\n",
       "\n",
       "    .dataframe tbody tr th {\n",
       "        vertical-align: top;\n",
       "    }\n",
       "\n",
       "    .dataframe thead th {\n",
       "        text-align: right;\n",
       "    }\n",
       "</style>\n",
       "<table border=\"1\" class=\"dataframe\">\n",
       "  <thead>\n",
       "    <tr style=\"text-align: right;\">\n",
       "      <th></th>\n",
       "      <th>count</th>\n",
       "      <th>mean</th>\n",
       "      <th>std</th>\n",
       "      <th>min</th>\n",
       "      <th>25%</th>\n",
       "      <th>50%</th>\n",
       "      <th>75%</th>\n",
       "      <th>max</th>\n",
       "    </tr>\n",
       "    <tr>\n",
       "      <th>graduation_rate_category</th>\n",
       "      <th></th>\n",
       "      <th></th>\n",
       "      <th></th>\n",
       "      <th></th>\n",
       "      <th></th>\n",
       "      <th></th>\n",
       "      <th></th>\n",
       "      <th></th>\n",
       "    </tr>\n",
       "  </thead>\n",
       "  <tbody>\n",
       "    <tr>\n",
       "      <th>50.1 - 60%</th>\n",
       "      <td>24.0</td>\n",
       "      <td>81.150000</td>\n",
       "      <td>13.972395</td>\n",
       "      <td>53.3</td>\n",
       "      <td>72.625</td>\n",
       "      <td>84.8</td>\n",
       "      <td>91.85</td>\n",
       "      <td>100.0</td>\n",
       "    </tr>\n",
       "    <tr>\n",
       "      <th>70.1 - 80%</th>\n",
       "      <td>1280.0</td>\n",
       "      <td>72.076797</td>\n",
       "      <td>9.751889</td>\n",
       "      <td>40.5</td>\n",
       "      <td>65.400</td>\n",
       "      <td>70.4</td>\n",
       "      <td>77.30</td>\n",
       "      <td>100.0</td>\n",
       "    </tr>\n",
       "    <tr>\n",
       "      <th>80.1 - 90%</th>\n",
       "      <td>10418.0</td>\n",
       "      <td>76.629977</td>\n",
       "      <td>10.167642</td>\n",
       "      <td>25.0</td>\n",
       "      <td>69.825</td>\n",
       "      <td>76.5</td>\n",
       "      <td>84.30</td>\n",
       "      <td>100.0</td>\n",
       "    </tr>\n",
       "    <tr>\n",
       "      <th>90.1 - 100%</th>\n",
       "      <td>31040.0</td>\n",
       "      <td>80.710180</td>\n",
       "      <td>9.908768</td>\n",
       "      <td>25.0</td>\n",
       "      <td>75.000</td>\n",
       "      <td>81.8</td>\n",
       "      <td>87.90</td>\n",
       "      <td>100.0</td>\n",
       "    </tr>\n",
       "    <tr>\n",
       "      <th>Not Reportable</th>\n",
       "      <td>848.0</td>\n",
       "      <td>80.972995</td>\n",
       "      <td>11.023673</td>\n",
       "      <td>35.3</td>\n",
       "      <td>74.475</td>\n",
       "      <td>80.8</td>\n",
       "      <td>90.50</td>\n",
       "      <td>100.0</td>\n",
       "    </tr>\n",
       "  </tbody>\n",
       "</table>\n",
       "</div>"
      ],
      "text/plain": [
       "                            count       mean        std   min     25%   50%  \\\n",
       "graduation_rate_category                                                      \n",
       "50.1 - 60%                   24.0  81.150000  13.972395  53.3  72.625  84.8   \n",
       "70.1 - 80%                 1280.0  72.076797   9.751889  40.5  65.400  70.4   \n",
       "80.1 - 90%                10418.0  76.629977  10.167642  25.0  69.825  76.5   \n",
       "90.1 - 100%               31040.0  80.710180   9.908768  25.0  75.000  81.8   \n",
       "Not Reportable              848.0  80.972995  11.023673  35.3  74.475  80.8   \n",
       "\n",
       "                            75%    max  \n",
       "graduation_rate_category                \n",
       "50.1 - 60%                91.85  100.0  \n",
       "70.1 - 80%                77.30  100.0  \n",
       "80.1 - 90%                84.30  100.0  \n",
       "90.1 - 100%               87.90  100.0  \n",
       "Not Reportable            90.50  100.0  "
      ]
     },
     "execution_count": 78,
     "metadata": {},
     "output_type": "execute_result"
    }
   ],
   "source": [
    "grouped_df = iowa_math_reading_proficiency_graduation_rate_df.groupby('graduation_rate_category')['% Proficient'].describe()\n",
    "\n",
    "grouped_df\n"
   ]
  },
  {
   "cell_type": "markdown",
   "id": "330c10bb",
   "metadata": {},
   "source": [
    "### 5.2. Graduation Rate Category"
   ]
  },
  {
   "cell_type": "code",
   "execution_count": 73,
   "id": "f79aebc2",
   "metadata": {},
   "outputs": [
    {
     "data": {
      "image/png": "[encoded data removed]",
      "text/plain": [
       "<Figure size 640x480 with 1 Axes>"
      ]
     },
     "metadata": {},
     "output_type": "display_data"
    }
   ],
   "source": [
    "import seaborn as sns\n",
    "\n",
    "# creating bar chart\n",
    "sns.barplot(x='graduation_rate_category', y='% Proficient', data=iowa_math_reading_proficiency_graduation_rate_df)\n",
    "\n",
    "# setting the axis labels\n",
    "plt.xlabel('Graduation Rate Category')\n",
    "plt.ylabel('% Proficient')\n",
    "\n",
    "# displaying plot\n",
    "plt.show()\n"
   ]
  },
  {
   "cell_type": "code",
   "execution_count": 81,
   "id": "bf79d07e",
   "metadata": {},
   "outputs": [
    {
     "data": {
      "text/html": [
       "<div>\n",
       "<style scoped>\n",
       "    .dataframe tbody tr th:only-of-type {\n",
       "        vertical-align: middle;\n",
       "    }\n",
       "\n",
       "    .dataframe tbody tr th {\n",
       "        vertical-align: top;\n",
       "    }\n",
       "\n",
       "    .dataframe thead th {\n",
       "        text-align: right;\n",
       "    }\n",
       "</style>\n",
       "<table border=\"1\" class=\"dataframe\">\n",
       "  <thead>\n",
       "    <tr style=\"text-align: right;\">\n",
       "      <th></th>\n",
       "      <th>mean</th>\n",
       "      <th>std</th>\n",
       "    </tr>\n",
       "    <tr>\n",
       "      <th>graduation_rate_category</th>\n",
       "      <th></th>\n",
       "      <th></th>\n",
       "    </tr>\n",
       "  </thead>\n",
       "  <tbody>\n",
       "    <tr>\n",
       "      <th>50.1 - 60%</th>\n",
       "      <td>81.150000</td>\n",
       "      <td>13.972395</td>\n",
       "    </tr>\n",
       "    <tr>\n",
       "      <th>70.1 - 80%</th>\n",
       "      <td>72.076797</td>\n",
       "      <td>9.751889</td>\n",
       "    </tr>\n",
       "    <tr>\n",
       "      <th>80.1 - 90%</th>\n",
       "      <td>76.629977</td>\n",
       "      <td>10.167642</td>\n",
       "    </tr>\n",
       "    <tr>\n",
       "      <th>90.1 - 100%</th>\n",
       "      <td>80.710180</td>\n",
       "      <td>9.908768</td>\n",
       "    </tr>\n",
       "    <tr>\n",
       "      <th>Not Reportable</th>\n",
       "      <td>80.972995</td>\n",
       "      <td>11.023673</td>\n",
       "    </tr>\n",
       "  </tbody>\n",
       "</table>\n",
       "</div>"
      ],
      "text/plain": [
       "                               mean        std\n",
       "graduation_rate_category                      \n",
       "50.1 - 60%                81.150000  13.972395\n",
       "70.1 - 80%                72.076797   9.751889\n",
       "80.1 - 90%                76.629977  10.167642\n",
       "90.1 - 100%               80.710180   9.908768\n",
       "Not Reportable            80.972995  11.023673"
      ]
     },
     "execution_count": 81,
     "metadata": {},
     "output_type": "execute_result"
    }
   ],
   "source": [
    "grouped_df = iowa_math_reading_proficiency_graduation_rate_df.groupby('graduation_rate_category')['% Proficient'].agg(['mean', 'std'])\n",
    "\n",
    "grouped_df\n"
   ]
  },
  {
   "cell_type": "markdown",
   "id": "3e88f0a6",
   "metadata": {},
   "source": [
    "### 5.3. Correlation Between Graduates, Total_Cohort, graduation_rate and % Proficient"
   ]
  },
  {
   "cell_type": "code",
   "execution_count": 75,
   "id": "4c5944a5",
   "metadata": {},
   "outputs": [
    {
     "data": {
      "image/png": "[encoded data removed]",
      "text/plain": [
       "<Figure size 640x480 with 2 Axes>"
      ]
     },
     "metadata": {},
     "output_type": "display_data"
    }
   ],
   "source": [
    "# selecting relevant columns for correlation matrix\n",
    "corr_df = iowa_math_reading_proficiency_graduation_rate_df[['graduates', 'total_cohort', 'graduation_rate', '% Proficient']]\n",
    "\n",
    "corr = corr_df.corr()\n",
    "\n",
    "sns.heatmap(corr, annot=True)\n",
    "\n",
    "# displaying plot\n",
    "plt.show()\n"
   ]
  },
  {
   "cell_type": "code",
   "execution_count": 83,
   "id": "39db9776",
   "metadata": {},
   "outputs": [
    {
     "data": {
      "text/html": [
       "<div>\n",
       "<style scoped>\n",
       "    .dataframe tbody tr th:only-of-type {\n",
       "        vertical-align: middle;\n",
       "    }\n",
       "\n",
       "    .dataframe tbody tr th {\n",
       "        vertical-align: top;\n",
       "    }\n",
       "\n",
       "    .dataframe thead th {\n",
       "        text-align: right;\n",
       "    }\n",
       "</style>\n",
       "<table border=\"1\" class=\"dataframe\">\n",
       "  <thead>\n",
       "    <tr style=\"text-align: right;\">\n",
       "      <th></th>\n",
       "      <th>graduates</th>\n",
       "      <th>total_cohort</th>\n",
       "      <th>graduation_rate</th>\n",
       "      <th>% Proficient</th>\n",
       "    </tr>\n",
       "  </thead>\n",
       "  <tbody>\n",
       "    <tr>\n",
       "      <th>graduates</th>\n",
       "      <td>1.00</td>\n",
       "      <td>1.00</td>\n",
       "      <td>-0.34</td>\n",
       "      <td>-0.13</td>\n",
       "    </tr>\n",
       "    <tr>\n",
       "      <th>total_cohort</th>\n",
       "      <td>1.00</td>\n",
       "      <td>1.00</td>\n",
       "      <td>-0.37</td>\n",
       "      <td>-0.15</td>\n",
       "    </tr>\n",
       "    <tr>\n",
       "      <th>graduation_rate</th>\n",
       "      <td>-0.34</td>\n",
       "      <td>-0.37</td>\n",
       "      <td>1.00</td>\n",
       "      <td>0.22</td>\n",
       "    </tr>\n",
       "    <tr>\n",
       "      <th>% Proficient</th>\n",
       "      <td>-0.13</td>\n",
       "      <td>-0.15</td>\n",
       "      <td>0.22</td>\n",
       "      <td>1.00</td>\n",
       "    </tr>\n",
       "  </tbody>\n",
       "</table>\n",
       "</div>"
      ],
      "text/plain": [
       "                 graduates  total_cohort  graduation_rate  % Proficient\n",
       "graduates             1.00          1.00            -0.34         -0.13\n",
       "total_cohort          1.00          1.00            -0.37         -0.15\n",
       "graduation_rate      -0.34         -0.37             1.00          0.22\n",
       "% Proficient         -0.13         -0.15             0.22          1.00"
      ]
     },
     "execution_count": 83,
     "metadata": {},
     "output_type": "execute_result"
    }
   ],
   "source": [
    "# selecting columns for correlation matrix\n",
    "corr_df = iowa_math_reading_proficiency_graduation_rate_df[['graduates', 'total_cohort', 'graduation_rate', '% Proficient']]\n",
    "\n",
    "# correlation matrix\n",
    "corr = corr_df.corr()\n",
    "\n",
    "# round correlation matrix to 2 decimal places\n",
    "corr = corr.round(2)\n",
    "\n",
    "# displaying correlation matrix as table\n",
    "corr\n"
   ]
  },
  {
   "cell_type": "markdown",
   "id": "23042717",
   "metadata": {},
   "source": [
    "### 5.4 Graduation Rate Category and School Year Correlation"
   ]
  },
  {
   "cell_type": "code",
   "execution_count": 84,
   "id": "f13fef56",
   "metadata": {},
   "outputs": [
    {
     "data": {
      "image/png": "[encoded data removed]",
      "text/plain": [
       "<Figure size 640x480 with 2 Axes>"
      ]
     },
     "metadata": {},
     "output_type": "display_data"
    }
   ],
   "source": [
    "import seaborn as sns\n",
    "\n",
    "iowa_math_reading_proficiency_graduation_rate_pivot = pd.pivot_table(iowa_math_reading_proficiency_graduation_rate_df, values='% Proficient', index='School Year_x', columns='graduation_rate_category')\n",
    "\n",
    "sns.heatmap(iowa_math_reading_proficiency_graduation_rate_pivot, cmap='YlGnBu')\n",
    "\n",
    "plt.xlabel('Graduation Rate Category')\n",
    "plt.ylabel('School Year')\n",
    "\n",
    "plt.show()\n"
   ]
  },
  {
   "cell_type": "code",
   "execution_count": 90,
   "id": "a8baa42c",
   "metadata": {},
   "outputs": [
    {
     "data": {
      "text/html": [
       "<div>\n",
       "<style scoped>\n",
       "    .dataframe tbody tr th:only-of-type {\n",
       "        vertical-align: middle;\n",
       "    }\n",
       "\n",
       "    .dataframe tbody tr th {\n",
       "        vertical-align: top;\n",
       "    }\n",
       "\n",
       "    .dataframe thead th {\n",
       "        text-align: right;\n",
       "    }\n",
       "</style>\n",
       "<table border=\"1\" class=\"dataframe\">\n",
       "  <thead>\n",
       "    <tr style=\"text-align: right;\">\n",
       "      <th>graduation_rate_category</th>\n",
       "      <th>50.1 - 60%</th>\n",
       "      <th>70.1 - 80%</th>\n",
       "      <th>80.1 - 90%</th>\n",
       "      <th>90.1 - 100%</th>\n",
       "      <th>Not Reportable</th>\n",
       "    </tr>\n",
       "    <tr>\n",
       "      <th>School Year_x</th>\n",
       "      <th></th>\n",
       "      <th></th>\n",
       "      <th></th>\n",
       "      <th></th>\n",
       "      <th></th>\n",
       "    </tr>\n",
       "  </thead>\n",
       "  <tbody>\n",
       "    <tr>\n",
       "      <th>2009</th>\n",
       "      <td>NaN</td>\n",
       "      <td>71.183696</td>\n",
       "      <td>78.275592</td>\n",
       "      <td>80.801933</td>\n",
       "      <td>83.887838</td>\n",
       "    </tr>\n",
       "    <tr>\n",
       "      <th>2010</th>\n",
       "      <td>NaN</td>\n",
       "      <td>72.713492</td>\n",
       "      <td>77.226322</td>\n",
       "      <td>80.689248</td>\n",
       "      <td>86.206522</td>\n",
       "    </tr>\n",
       "    <tr>\n",
       "      <th>2011</th>\n",
       "      <td>NaN</td>\n",
       "      <td>71.659677</td>\n",
       "      <td>77.416448</td>\n",
       "      <td>80.929405</td>\n",
       "      <td>NaN</td>\n",
       "    </tr>\n",
       "    <tr>\n",
       "      <th>2012</th>\n",
       "      <td>81.15</td>\n",
       "      <td>73.912295</td>\n",
       "      <td>75.767135</td>\n",
       "      <td>81.114387</td>\n",
       "      <td>NaN</td>\n",
       "    </tr>\n",
       "    <tr>\n",
       "      <th>2013</th>\n",
       "      <td>NaN</td>\n",
       "      <td>70.831250</td>\n",
       "      <td>76.209320</td>\n",
       "      <td>80.997426</td>\n",
       "      <td>74.700000</td>\n",
       "    </tr>\n",
       "    <tr>\n",
       "      <th>2014</th>\n",
       "      <td>NaN</td>\n",
       "      <td>68.692857</td>\n",
       "      <td>76.952330</td>\n",
       "      <td>80.435675</td>\n",
       "      <td>NaN</td>\n",
       "    </tr>\n",
       "    <tr>\n",
       "      <th>2015</th>\n",
       "      <td>NaN</td>\n",
       "      <td>71.567857</td>\n",
       "      <td>76.563100</td>\n",
       "      <td>80.600601</td>\n",
       "      <td>81.743421</td>\n",
       "    </tr>\n",
       "    <tr>\n",
       "      <th>2016</th>\n",
       "      <td>NaN</td>\n",
       "      <td>79.553750</td>\n",
       "      <td>77.079643</td>\n",
       "      <td>80.256620</td>\n",
       "      <td>79.804825</td>\n",
       "    </tr>\n",
       "    <tr>\n",
       "      <th>2017</th>\n",
       "      <td>NaN</td>\n",
       "      <td>66.119643</td>\n",
       "      <td>76.727918</td>\n",
       "      <td>80.667364</td>\n",
       "      <td>81.999194</td>\n",
       "    </tr>\n",
       "    <tr>\n",
       "      <th>2018</th>\n",
       "      <td>NaN</td>\n",
       "      <td>72.914286</td>\n",
       "      <td>73.788988</td>\n",
       "      <td>80.831964</td>\n",
       "      <td>78.193605</td>\n",
       "    </tr>\n",
       "    <tr>\n",
       "      <th>2019</th>\n",
       "      <td>NaN</td>\n",
       "      <td>68.692857</td>\n",
       "      <td>75.431211</td>\n",
       "      <td>80.599565</td>\n",
       "      <td>NaN</td>\n",
       "    </tr>\n",
       "  </tbody>\n",
       "</table>\n",
       "</div>"
      ],
      "text/plain": [
       "graduation_rate_category  50.1 - 60%  70.1 - 80%  80.1 - 90%  90.1 - 100%  \\\n",
       "School Year_x                                                               \n",
       "2009                             NaN   71.183696   78.275592    80.801933   \n",
       "2010                             NaN   72.713492   77.226322    80.689248   \n",
       "2011                             NaN   71.659677   77.416448    80.929405   \n",
       "2012                           81.15   73.912295   75.767135    81.114387   \n",
       "2013                             NaN   70.831250   76.209320    80.997426   \n",
       "2014                             NaN   68.692857   76.952330    80.435675   \n",
       "2015                             NaN   71.567857   76.563100    80.600601   \n",
       "2016                             NaN   79.553750   77.079643    80.256620   \n",
       "2017                             NaN   66.119643   76.727918    80.667364   \n",
       "2018                             NaN   72.914286   73.788988    80.831964   \n",
       "2019                             NaN   68.692857   75.431211    80.599565   \n",
       "\n",
       "graduation_rate_category  Not Reportable  \n",
       "School Year_x                             \n",
       "2009                           83.887838  \n",
       "2010                           86.206522  \n",
       "2011                                 NaN  \n",
       "2012                                 NaN  \n",
       "2013                           74.700000  \n",
       "2014                                 NaN  \n",
       "2015                           81.743421  \n",
       "2016                           79.804825  \n",
       "2017                           81.999194  \n",
       "2018                           78.193605  \n",
       "2019                                 NaN  "
      ]
     },
     "execution_count": 90,
     "metadata": {},
     "output_type": "execute_result"
    }
   ],
   "source": [
    "iowa_math_reading_proficiency_graduation_rate_pivot = pd.pivot_table(iowa_math_reading_proficiency_graduation_rate_df, values='% Proficient', index='School Year_x', columns='graduation_rate_category')\n",
    "iowa_math_reading_proficiency_graduation_rate_pivot\n"
   ]
  },
  {
   "cell_type": "markdown",
   "id": "9850f6a8",
   "metadata": {},
   "source": [
    "### 5.5. School Year and Total Cohort"
   ]
  },
  {
   "cell_type": "code",
   "execution_count": 85,
   "id": "9dd62f18",
   "metadata": {},
   "outputs": [
    {
     "data": {
      "image/png": "[encoded data removed]",
      "text/plain": [
       "<Figure size 640x480 with 1 Axes>"
      ]
     },
     "metadata": {},
     "output_type": "display_data"
    }
   ],
   "source": [
    "import pandas as pd\n",
    "import matplotlib.pyplot as plt\n",
    "\n",
    "iowa_math_reading_proficiency_graduation_rate_pivot = pd.pivot_table(iowa_math_reading_proficiency_graduation_rate_df, values='Total', index='School Year_x', columns='Proficient Category')\n",
    "\n",
    "iowa_math_reading_proficiency_graduation_rate_pivot.plot(kind='bar', stacked=True)\n",
    "\n",
    "plt.xlabel('School Year')\n",
    "plt.ylabel('Total Cohort')\n",
    "\n",
    "plt.show()\n"
   ]
  },
  {
   "cell_type": "code",
   "execution_count": 92,
   "id": "a6b5bd1c",
   "metadata": {},
   "outputs": [
    {
     "data": {
      "text/html": [
       "<div>\n",
       "<style scoped>\n",
       "    .dataframe tbody tr th:only-of-type {\n",
       "        vertical-align: middle;\n",
       "    }\n",
       "\n",
       "    .dataframe tbody tr th {\n",
       "        vertical-align: top;\n",
       "    }\n",
       "\n",
       "    .dataframe thead th {\n",
       "        text-align: right;\n",
       "    }\n",
       "</style>\n",
       "<table border=\"1\" class=\"dataframe\">\n",
       "  <thead>\n",
       "    <tr style=\"text-align: right;\">\n",
       "      <th>Proficient Category</th>\n",
       "      <th>20.1 - 30%</th>\n",
       "      <th>30.1 - 40%</th>\n",
       "      <th>40.1 - 50%</th>\n",
       "      <th>50.1 - 60%</th>\n",
       "      <th>60.1 - 70%</th>\n",
       "      <th>70.1 - 80%</th>\n",
       "      <th>80.1 - 90%</th>\n",
       "      <th>90.1 - 100%</th>\n",
       "    </tr>\n",
       "    <tr>\n",
       "      <th>School Year_x</th>\n",
       "      <th></th>\n",
       "      <th></th>\n",
       "      <th></th>\n",
       "      <th></th>\n",
       "      <th></th>\n",
       "      <th></th>\n",
       "      <th></th>\n",
       "      <th></th>\n",
       "    </tr>\n",
       "  </thead>\n",
       "  <tbody>\n",
       "    <tr>\n",
       "      <th>2009</th>\n",
       "      <td>12.0</td>\n",
       "      <td>24.666667</td>\n",
       "      <td>42.851852</td>\n",
       "      <td>106.437500</td>\n",
       "      <td>190.372549</td>\n",
       "      <td>90.655172</td>\n",
       "      <td>102.995392</td>\n",
       "      <td>57.822951</td>\n",
       "    </tr>\n",
       "    <tr>\n",
       "      <th>2010</th>\n",
       "      <td>12.0</td>\n",
       "      <td>24.666667</td>\n",
       "      <td>42.851852</td>\n",
       "      <td>106.437500</td>\n",
       "      <td>190.372549</td>\n",
       "      <td>90.655172</td>\n",
       "      <td>102.995392</td>\n",
       "      <td>57.822951</td>\n",
       "    </tr>\n",
       "    <tr>\n",
       "      <th>2011</th>\n",
       "      <td>12.0</td>\n",
       "      <td>24.666667</td>\n",
       "      <td>42.851852</td>\n",
       "      <td>103.365672</td>\n",
       "      <td>188.429400</td>\n",
       "      <td>90.050753</td>\n",
       "      <td>102.662080</td>\n",
       "      <td>57.811166</td>\n",
       "    </tr>\n",
       "    <tr>\n",
       "      <th>2012</th>\n",
       "      <td>12.0</td>\n",
       "      <td>24.666667</td>\n",
       "      <td>42.851852</td>\n",
       "      <td>103.671642</td>\n",
       "      <td>189.307393</td>\n",
       "      <td>89.892660</td>\n",
       "      <td>101.660661</td>\n",
       "      <td>57.854575</td>\n",
       "    </tr>\n",
       "    <tr>\n",
       "      <th>2013</th>\n",
       "      <td>12.0</td>\n",
       "      <td>24.666667</td>\n",
       "      <td>42.851852</td>\n",
       "      <td>104.180451</td>\n",
       "      <td>190.144814</td>\n",
       "      <td>90.281970</td>\n",
       "      <td>102.057402</td>\n",
       "      <td>58.115132</td>\n",
       "    </tr>\n",
       "    <tr>\n",
       "      <th>2014</th>\n",
       "      <td>12.0</td>\n",
       "      <td>24.666667</td>\n",
       "      <td>42.851852</td>\n",
       "      <td>104.646617</td>\n",
       "      <td>188.692456</td>\n",
       "      <td>89.530008</td>\n",
       "      <td>100.994834</td>\n",
       "      <td>57.951220</td>\n",
       "    </tr>\n",
       "    <tr>\n",
       "      <th>2015</th>\n",
       "      <td>12.0</td>\n",
       "      <td>24.666667</td>\n",
       "      <td>42.851852</td>\n",
       "      <td>102.750000</td>\n",
       "      <td>184.406780</td>\n",
       "      <td>87.747161</td>\n",
       "      <td>98.329312</td>\n",
       "      <td>56.464174</td>\n",
       "    </tr>\n",
       "    <tr>\n",
       "      <th>2016</th>\n",
       "      <td>12.0</td>\n",
       "      <td>24.666667</td>\n",
       "      <td>42.851852</td>\n",
       "      <td>103.746269</td>\n",
       "      <td>180.942910</td>\n",
       "      <td>86.572485</td>\n",
       "      <td>97.315164</td>\n",
       "      <td>55.316742</td>\n",
       "    </tr>\n",
       "    <tr>\n",
       "      <th>2017</th>\n",
       "      <td>12.0</td>\n",
       "      <td>24.666667</td>\n",
       "      <td>42.851852</td>\n",
       "      <td>103.746269</td>\n",
       "      <td>180.942910</td>\n",
       "      <td>86.572485</td>\n",
       "      <td>97.315164</td>\n",
       "      <td>55.316742</td>\n",
       "    </tr>\n",
       "    <tr>\n",
       "      <th>2018</th>\n",
       "      <td>12.0</td>\n",
       "      <td>24.666667</td>\n",
       "      <td>42.851852</td>\n",
       "      <td>103.286765</td>\n",
       "      <td>180.464220</td>\n",
       "      <td>86.490066</td>\n",
       "      <td>98.064972</td>\n",
       "      <td>56.055300</td>\n",
       "    </tr>\n",
       "    <tr>\n",
       "      <th>2019</th>\n",
       "      <td>12.0</td>\n",
       "      <td>40.000000</td>\n",
       "      <td>51.263158</td>\n",
       "      <td>116.101695</td>\n",
       "      <td>194.047904</td>\n",
       "      <td>89.913658</td>\n",
       "      <td>100.172741</td>\n",
       "      <td>58.933555</td>\n",
       "    </tr>\n",
       "  </tbody>\n",
       "</table>\n",
       "</div>"
      ],
      "text/plain": [
       "Proficient Category  20.1 - 30%  30.1 - 40%  40.1 - 50%  50.1 - 60%  \\\n",
       "School Year_x                                                         \n",
       "2009                       12.0   24.666667   42.851852  106.437500   \n",
       "2010                       12.0   24.666667   42.851852  106.437500   \n",
       "2011                       12.0   24.666667   42.851852  103.365672   \n",
       "2012                       12.0   24.666667   42.851852  103.671642   \n",
       "2013                       12.0   24.666667   42.851852  104.180451   \n",
       "2014                       12.0   24.666667   42.851852  104.646617   \n",
       "2015                       12.0   24.666667   42.851852  102.750000   \n",
       "2016                       12.0   24.666667   42.851852  103.746269   \n",
       "2017                       12.0   24.666667   42.851852  103.746269   \n",
       "2018                       12.0   24.666667   42.851852  103.286765   \n",
       "2019                       12.0   40.000000   51.263158  116.101695   \n",
       "\n",
       "Proficient Category  60.1 - 70%  70.1 - 80%  80.1 - 90%  90.1 - 100%  \n",
       "School Year_x                                                         \n",
       "2009                 190.372549   90.655172  102.995392    57.822951  \n",
       "2010                 190.372549   90.655172  102.995392    57.822951  \n",
       "2011                 188.429400   90.050753  102.662080    57.811166  \n",
       "2012                 189.307393   89.892660  101.660661    57.854575  \n",
       "2013                 190.144814   90.281970  102.057402    58.115132  \n",
       "2014                 188.692456   89.530008  100.994834    57.951220  \n",
       "2015                 184.406780   87.747161   98.329312    56.464174  \n",
       "2016                 180.942910   86.572485   97.315164    55.316742  \n",
       "2017                 180.942910   86.572485   97.315164    55.316742  \n",
       "2018                 180.464220   86.490066   98.064972    56.055300  \n",
       "2019                 194.047904   89.913658  100.172741    58.933555  "
      ]
     },
     "execution_count": 92,
     "metadata": {},
     "output_type": "execute_result"
    }
   ],
   "source": [
    "\n",
    "iowa_math_reading_proficiency_graduation_rate_pivot\n"
   ]
  },
  {
   "cell_type": "markdown",
   "id": "66bba5df",
   "metadata": {},
   "source": [
    "## 6. Storing merged data back to Mongo DB"
   ]
  },
  {
   "cell_type": "code",
   "execution_count": 101,
   "id": "f9839cda",
   "metadata": {},
   "outputs": [],
   "source": [
    "iowa_math_reading_proficiency_graduation_rate_df.drop(['_id'], axis = 1, inplace= True)"
   ]
  },
  {
   "cell_type": "code",
   "execution_count": 102,
   "id": "d48a6740",
   "metadata": {},
   "outputs": [
    {
     "data": {
      "text/plain": [
       "<pymongo.results.InsertManyResult at 0x29bceae91c0>"
      ]
     },
     "execution_count": 102,
     "metadata": {},
     "output_type": "execute_result"
    }
   ],
   "source": [
    "client = MongoClient(f'mongodb://{MONGO_DATABASE_USER_NAME}:{MONGO_DATABASE_USER_PASSWORD}@{HOST}:{MONGO_DATABASE_PORT}/{MONGO_DATABASE_NAME}')\n",
    "db = client[MONGO_DATABASE_NAME]\n",
    "iowa_education_data_merged_collection = db['iowa_education_data_merged']\n",
    "iowa_education_data_merged_collection.drop()\n",
    "iowa_education_data_merged_collection.insert_many(iowa_math_reading_proficiency_graduation_rate_df.to_dict(orient='records'))"
   ]
  },
  {
   "cell_type": "code",
   "execution_count": null,
   "id": "594783fa",
   "metadata": {},
   "outputs": [],
   "source": []
  }
 ],
 "metadata": {
  "kernelspec": {
   "display_name": "Python 3 (ipykernel)",
   "language": "python",
   "name": "python3"
  },
  "language_info": {
   "codemirror_mode": {
    "name": "ipython",
    "version": 3
   },
   "file_extension": ".py",
   "mimetype": "text/x-python",
   "name": "python",
   "nbconvert_exporter": "python",
   "pygments_lexer": "ipython3",
   "version": "3.9.13"
  }
 },
 "nbformat": 4,
 "nbformat_minor": 5
}
